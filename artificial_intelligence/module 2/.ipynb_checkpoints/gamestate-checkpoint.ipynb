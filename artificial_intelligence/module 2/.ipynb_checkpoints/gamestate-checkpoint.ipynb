{
 "cells": [
  {
   "cell_type": "code",
   "execution_count": null,
   "metadata": {},
   "outputs": [],
   "source": [
    "# board dimentions constant\n",
    "xlim , ylim = 2 , 3\n",
    "\n",
    "class GameState:\n",
    "    def __init(self):\n",
    "        self._board = [[0] * ylim for _ in range(xlim)]\n",
    "        self._board[-1][-1] = 1\n",
    "        seld._parity = 0\n",
    "        self.player_locations = [None , None]\n",
    "    def forecast_move(self , move):\n",
    "        if move not in self.get_legal_moves():\n",
    "            raise RuntimeError(\"attempted forcast of an illeaglemove\")\n",
    "        newBoard = deepcopy(self)\n",
    "        newBoard._board[move[0]][move[1]] = 1\n",
    "        newBoard._player_loacations[self._parity] = move\n",
    "        newBoard._parity ^= 1\n",
    "        return newBoard\n",
    "    def get_legal_moves(self):\n",
    "        loc = self._player_loacations[self._parity]\n",
    "        if not loc:\n",
    "            return self._get_blank_spaces()\n",
    "        moves = []\n",
    "        rays = [(1, 0), (1, -1), (0, -1), (-1, -1), (-1, 0), (-1, 1), (0, 1), (1, 1)]\n",
    "        for dx , dy in rays:\n",
    "            _x , _y = loc\n",
    "            while 0 <= _x + dx < xlim and 0 <= _y + dy < ylim:\n",
    "                _x , _y = _x + dx , _y + dy\n",
    "                if self._board[_x][_y]:\n",
    "                    break\n",
    "                moves.append((_x , _y))\n",
    "        return moves\n",
    "    def _get_blank_spaces(self):\n",
    "        return[(x , y) for y in range(ylim) for x in range(xlim) if self._board[x][y] == 0]"
   ]
  }
 ],
 "metadata": {
  "kernelspec": {
   "display_name": "Python 3",
   "language": "python",
   "name": "python3"
  },
  "language_info": {
   "codemirror_mode": {
    "name": "ipython",
    "version": 3
   },
   "file_extension": ".py",
   "mimetype": "text/x-python",
   "name": "python",
   "nbconvert_exporter": "python",
   "pygments_lexer": "ipython3",
   "version": "3.7.1"
  }
 },
 "nbformat": 4,
 "nbformat_minor": 2
}
