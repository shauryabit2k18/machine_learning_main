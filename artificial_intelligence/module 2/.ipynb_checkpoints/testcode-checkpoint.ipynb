{
 "cells": [
  {
   "cell_type": "code",
   "execution_count": null,
   "metadata": {},
   "outputs": [],
   "source": [
    "import minmax_helpers\n",
    "\n",
    "from gamestate import *\n",
    "\n",
    "g = GameState()\n",
    "\n",
    "print(\"calling min_value on an empty board...\")\n",
    "v = minmax_helpers.min_value(g)\n",
    "\n",
    "if v == -1:\n",
    "    print(\"sahiii\")\n",
    "else:\n",
    "    print(\"galat\")"
   ]
  }
 ],
 "metadata": {
  "kernelspec": {
   "display_name": "Python 3",
   "language": "python",
   "name": "python3"
  },
  "language_info": {
   "codemirror_mode": {
    "name": "ipython",
    "version": 3
   },
   "file_extension": ".py",
   "mimetype": "text/x-python",
   "name": "python",
   "nbconvert_exporter": "python",
   "pygments_lexer": "ipython3",
   "version": "3.7.1"
  }
 },
 "nbformat": 4,
 "nbformat_minor": 2
}
