{
  "nbformat": 4,
  "nbformat_minor": 0,
  "metadata": {
    "colab": {
      "name": "MLPs_MNIST.ipynb",
      "version": "0.3.2",
      "provenance": []
    },
    "kernelspec": {
      "name": "python3",
      "display_name": "Python 3"
    }
  },
  "cells": [
    {
      "cell_type": "markdown",
      "metadata": {
        "id": "h1z9D7fXeGhw",
        "colab_type": "text"
      },
      "source": [
        "# loading the MNIST dataset"
      ]
    },
    {
      "cell_type": "code",
      "metadata": {
        "id": "6qCrHsitcX_e",
        "colab_type": "code",
        "colab": {
          "base_uri": "https://localhost:8080/",
          "height": 67
        },
        "outputId": "0b882847-37f1-430f-8377-c1a624b22834"
      },
      "source": [
        "import keras\n",
        "from keras.datasets import mnist\n",
        "\n",
        "(X_train , y_train) , (X_test , y_test) = mnist.load_data()\n",
        "print(\"mnist train dataset has a size of: %d\" %len(X_train))\n",
        "print(\"\\nmnist test dataset has a seze of: %d\" %len(X_test))"
      ],
      "execution_count": 5,
      "outputs": [
        {
          "output_type": "stream",
          "text": [
            "mnist train dataset has a size of: 60000\n",
            "\n",
            "mnist test dataset has a seze of: 10000\n"
          ],
          "name": "stdout"
        }
      ]
    },
    {
      "cell_type": "markdown",
      "metadata": {
        "id": "sk3ldickeXUO",
        "colab_type": "text"
      },
      "source": [
        "# Visualizing the first 6 training images"
      ]
    },
    {
      "cell_type": "code",
      "metadata": {
        "id": "1xf14lzQeWlm",
        "colab_type": "code",
        "colab": {
          "base_uri": "https://localhost:8080/",
          "height": 230
        },
        "outputId": "78072aa2-d1da-48d1-de9e-cad9a4849e3b"
      },
      "source": [
        "import matplotlib.pyplot as plt\n",
        "%matplotlib inline   \n",
        "import matplotlib.cm as cm\n",
        "import numpy as np\n",
        "\n",
        "fig = plt.figure(figsize = (20 , 20))\n",
        "for i in range(6):\n",
        "  ax = fig.add_subplot(1 , 6 , i+1 , xticks=[] , yticks=[])\n",
        "  ax.imshow(X_train[i] , cmap = 'gray')\n",
        "  ax.set_title(str(y_train[i]))"
      ],
      "execution_count": 9,
      "outputs": [
        {
          "output_type": "display_data",
          "data": {
            "image/png": "[encoded data removed]",
            "text/plain": [
              "<Figure size 1440x1440 with 6 Axes>"
            ]
          },
          "metadata": {
            "tags": []
          }
        }
      ]
    },
    {
      "cell_type": "markdown",
      "metadata": {
        "id": "g5hHziCPgZge",
        "colab_type": "text"
      },
      "source": [
        "# Rescaling the images in the MNIST dataset"
      ]
    },
    {
      "cell_type": "code",
      "metadata": {
        "id": "bTcqxwBng0Ve",
        "colab_type": "code",
        "colab": {}
      },
      "source": [
        "X_train = X_train.astype(\"float32\")/255\n",
        "X_test = X_test.astype(\"float32\")/255"
      ],
      "execution_count": 0,
      "outputs": []
    },
    {
      "cell_type": "markdown",
      "metadata": {
        "id": "OgVxEfTOhL95",
        "colab_type": "text"
      },
      "source": [
        "# One_Hot incoding the labels"
      ]
    },
    {
      "cell_type": "code",
      "metadata": {
        "id": "Gpf5qM__hZ1K",
        "colab_type": "code",
        "colab": {
          "base_uri": "https://localhost:8080/",
          "height": 252
        },
        "outputId": "e090fc8e-6dcc-487f-9a35-cecd8e28c65e"
      },
      "source": [
        "from keras.utils import np_utils\n",
        "\n",
        "print(\"inteager valued labels: \")\n",
        "print(y_train[:10])\n",
        "\n",
        "y_train = np_utils.to_categorical(y_train , 10)\n",
        "y_test = np_utils.to_categorical(y_test , 10)\n",
        "\n",
        "print(\"\\nOne-Hot encoded labels: \")\n",
        "print(y_train[:10])"
      ],
      "execution_count": 12,
      "outputs": [
        {
          "output_type": "stream",
          "text": [
            "inteager valued labels: \n",
            "[5 0 4 1 9 2 1 3 1 4]\n",
            "\n",
            "One-Hot encoded labels: \n",
            "[[0. 0. 0. 0. 0. 1. 0. 0. 0. 0.]\n",
            " [1. 0. 0. 0. 0. 0. 0. 0. 0. 0.]\n",
            " [0. 0. 0. 0. 1. 0. 0. 0. 0. 0.]\n",
            " [0. 1. 0. 0. 0. 0. 0. 0. 0. 0.]\n",
            " [0. 0. 0. 0. 0. 0. 0. 0. 0. 1.]\n",
            " [0. 0. 1. 0. 0. 0. 0. 0. 0. 0.]\n",
            " [0. 1. 0. 0. 0. 0. 0. 0. 0. 0.]\n",
            " [0. 0. 0. 1. 0. 0. 0. 0. 0. 0.]\n",
            " [0. 1. 0. 0. 0. 0. 0. 0. 0. 0.]\n",
            " [0. 0. 0. 0. 1. 0. 0. 0. 0. 0.]]\n"
          ],
          "name": "stdout"
        }
      ]
    },
    {
      "cell_type": "markdown",
      "metadata": {
        "id": "_HSHJmhNiuEn",
        "colab_type": "text"
      },
      "source": [
        "# Creating the architecture of neural **nets**"
      ]
    },
    {
      "cell_type": "code",
      "metadata": {
        "id": "fSEnOdLPjSS2",
        "colab_type": "code",
        "colab": {
          "base_uri": "https://localhost:8080/",
          "height": 440
        },
        "outputId": "4dea7f9b-8347-4442-b8c9-3235864a4930"
      },
      "source": [
        "from keras.models import Sequential\n",
        "from keras.layers import Dense , Flatten , Dropout\n",
        "\n",
        "model = Sequential()\n",
        "model.add(Flatten(input_shape = X_train.shape[1:]))\n",
        "model.add(Dense(512 , activation = 'relu'))\n",
        "model.add(Dropout(0.2))\n",
        "model.add(Dense(512 , activation = 'relu'))\n",
        "model.add(Dropout(0.2))\n",
        "model.add(Dense(10 , activation = 'softmax'))\n",
        "\n",
        "model.summary()"
      ],
      "execution_count": 15,
      "outputs": [
        {
          "output_type": "stream",
          "text": [
            "W0626 16:16:21.135888 140606249973632 deprecation_wrapper.py:119] From /usr/local/lib/python3.6/dist-packages/keras/backend/tensorflow_backend.py:133: The name tf.placeholder_with_default is deprecated. Please use tf.compat.v1.placeholder_with_default instead.\n",
            "\n",
            "W0626 16:16:21.149903 140606249973632 deprecation.py:506] From /usr/local/lib/python3.6/dist-packages/keras/backend/tensorflow_backend.py:3445: calling dropout (from tensorflow.python.ops.nn_ops) with keep_prob is deprecated and will be removed in a future version.\n",
            "Instructions for updating:\n",
            "Please use `rate` instead of `keep_prob`. Rate should be set to `rate = 1 - keep_prob`.\n"
          ],
          "name": "stderr"
        },
        {
          "output_type": "stream",
          "text": [
            "_________________________________________________________________\n",
            "Layer (type)                 Output Shape              Param #   \n",
            "=================================================================\n",
            "flatten_3 (Flatten)          (None, 784)               0         \n",
            "_________________________________________________________________\n",
            "dense_5 (Dense)              (None, 512)               401920    \n",
            "_________________________________________________________________\n",
            "dropout_1 (Dropout)          (None, 512)               0         \n",
            "_________________________________________________________________\n",
            "dense_6 (Dense)              (None, 512)               262656    \n",
            "_________________________________________________________________\n",
            "dropout_2 (Dropout)          (None, 512)               0         \n",
            "_________________________________________________________________\n",
            "dense_7 (Dense)              (None, 10)                5130      \n",
            "=================================================================\n",
            "Total params: 669,706\n",
            "Trainable params: 669,706\n",
            "Non-trainable params: 0\n",
            "_________________________________________________________________\n"
          ],
          "name": "stdout"
        }
      ]
    },
    {
      "cell_type": "markdown",
      "metadata": {
        "id": "xT1AtDB3kwyy",
        "colab_type": "text"
      },
      "source": [
        "# **Compile the model**"
      ]
    },
    {
      "cell_type": "code",
      "metadata": {
        "id": "ElACDKYN6ETU",
        "colab_type": "code",
        "colab": {
          "base_uri": "https://localhost:8080/",
          "height": 34
        },
        "outputId": "5e1936e4-899d-4b86-9561-37a78fdf666f"
      },
      "source": [
        "model.compile(loss = 'categorical_crossentropy' , optimizer = 'rmsprop' , metrics = ['accuracy'])\n",
        "\n",
        "score = model.evaluate(X_test , y_test , verbose = 0)\n",
        "accuracy = 100*score[1]\n",
        "\n",
        "print('test accuracy : %.4f%%' % accuracy)"
      ],
      "execution_count": 19,
      "outputs": [
        {
          "output_type": "stream",
          "text": [
            "test accuracy : 12.6200%\n"
          ],
          "name": "stdout"
        }
      ]
    },
    {
      "cell_type": "markdown",
      "metadata": {
        "id": "b974cWGcBOme",
        "colab_type": "text"
      },
      "source": [
        "# **Validation set and finding the best model**"
      ]
    },
    {
      "cell_type": "code",
      "metadata": {
        "id": "zJnHfgD4BMdI",
        "colab_type": "code",
        "colab": {
          "base_uri": "https://localhost:8080/",
          "height": 776
        },
        "outputId": "d6f2efa1-7eae-49e1-ddb6-6d3fe3b450ed"
      },
      "source": [
        "from keras.callbacks import ModelCheckpoint\n",
        "\n",
        "checkpointer = ModelCheckpoint(filepath = 'mnist.model.best.hdf5' , verbose = 1 , save_best_only = True)\n",
        "\n",
        "hist = model.fit(X_train , y_train , batch_size = 128 , epochs = 10 , validation_split = 0.2 , callbacks = [checkpointer] , verbose = 1 , shuffle = True)\n"
      ],
      "execution_count": 22,
      "outputs": [
        {
          "output_type": "stream",
          "text": [
            "W0626 19:07:03.058574 140606249973632 deprecation.py:323] From /usr/local/lib/python3.6/dist-packages/tensorflow/python/ops/math_grad.py:1250: add_dispatch_support.<locals>.wrapper (from tensorflow.python.ops.array_ops) is deprecated and will be removed in a future version.\n",
            "Instructions for updating:\n",
            "Use tf.where in 2.0, which has the same broadcast rule as np.where\n"
          ],
          "name": "stderr"
        },
        {
          "output_type": "stream",
          "text": [
            "Train on 48000 samples, validate on 12000 samples\n",
            "Epoch 1/10\n",
            "48000/48000 [==============================] - 8s 165us/step - loss: 0.9541 - acc: 0.7014 - val_loss: 0.4881 - val_acc: 0.8393\n",
            "\n",
            "Epoch 00001: val_loss improved from inf to 0.48806, saving model to mnist.model.best.hdf5\n",
            "Epoch 2/10\n",
            "48000/48000 [==============================] - 8s 158us/step - loss: 0.4176 - acc: 0.8742 - val_loss: 0.3156 - val_acc: 0.9064\n",
            "\n",
            "Epoch 00002: val_loss improved from 0.48806 to 0.31563, saving model to mnist.model.best.hdf5\n",
            "Epoch 3/10\n",
            "48000/48000 [==============================] - 7s 155us/step - loss: 0.3252 - acc: 0.9033 - val_loss: 0.2577 - val_acc: 0.9234\n",
            "\n",
            "Epoch 00003: val_loss improved from 0.31563 to 0.25774, saving model to mnist.model.best.hdf5\n",
            "Epoch 4/10\n",
            "48000/48000 [==============================] - 7s 154us/step - loss: 0.2691 - acc: 0.9194 - val_loss: 0.2172 - val_acc: 0.9350\n",
            "\n",
            "Epoch 00004: val_loss improved from 0.25774 to 0.21725, saving model to mnist.model.best.hdf5\n",
            "Epoch 5/10\n",
            "48000/48000 [==============================] - 8s 156us/step - loss: 0.2250 - acc: 0.9321 - val_loss: 0.1834 - val_acc: 0.9453\n",
            "\n",
            "Epoch 00005: val_loss improved from 0.21725 to 0.18340, saving model to mnist.model.best.hdf5\n",
            "Epoch 6/10\n",
            "48000/48000 [==============================] - 8s 157us/step - loss: 0.1937 - acc: 0.9411 - val_loss: 0.1607 - val_acc: 0.9537\n",
            "\n",
            "Epoch 00006: val_loss improved from 0.18340 to 0.16069, saving model to mnist.model.best.hdf5\n",
            "Epoch 7/10\n",
            "48000/48000 [==============================] - 7s 156us/step - loss: 0.1686 - acc: 0.9494 - val_loss: 0.1417 - val_acc: 0.9578\n",
            "\n",
            "Epoch 00007: val_loss improved from 0.16069 to 0.14166, saving model to mnist.model.best.hdf5\n",
            "Epoch 8/10\n",
            "48000/48000 [==============================] - 8s 157us/step - loss: 0.1492 - acc: 0.9546 - val_loss: 0.1331 - val_acc: 0.9601\n",
            "\n",
            "Epoch 00008: val_loss improved from 0.14166 to 0.13305, saving model to mnist.model.best.hdf5\n",
            "Epoch 9/10\n",
            "48000/48000 [==============================] - 8s 158us/step - loss: 0.1334 - acc: 0.9601 - val_loss: 0.1200 - val_acc: 0.9645\n",
            "\n",
            "Epoch 00009: val_loss improved from 0.13305 to 0.12001, saving model to mnist.model.best.hdf5\n",
            "Epoch 10/10\n",
            "48000/48000 [==============================] - 7s 154us/step - loss: 0.1197 - acc: 0.9646 - val_loss: 0.1145 - val_acc: 0.9652\n",
            "\n",
            "Epoch 00010: val_loss improved from 0.12001 to 0.11450, saving model to mnist.model.best.hdf5\n"
          ],
          "name": "stdout"
        }
      ]
    },
    {
      "cell_type": "markdown",
      "metadata": {
        "id": "qzHOfOVkKyWd",
        "colab_type": "text"
      },
      "source": [
        "# **Load model weights**"
      ]
    },
    {
      "cell_type": "code",
      "metadata": {
        "id": "gcDA9hnFLeQ2",
        "colab_type": "code",
        "colab": {}
      },
      "source": [
        "model.load_weights('mnist.model.best.hdf5')"
      ],
      "execution_count": 0,
      "outputs": []
    },
    {
      "cell_type": "markdown",
      "metadata": {
        "id": "MldBJexAMIID",
        "colab_type": "text"
      },
      "source": [
        "# **Testing the trained model on the test set**"
      ]
    },
    {
      "cell_type": "code",
      "metadata": {
        "id": "IYLWeeeAMN24",
        "colab_type": "code",
        "colab": {
          "base_uri": "https://localhost:8080/",
          "height": 34
        },
        "outputId": "925f17dd-4bae-4ffc-bd05-8e38cf7b0ed1"
      },
      "source": [
        "score = model.evaluate(X_test , y_test , verbose = 0)\n",
        "accuracy = 100*score[1]\n",
        "\n",
        "print('test accuracy: %.4f%%' %accuracy)"
      ],
      "execution_count": 25,
      "outputs": [
        {
          "output_type": "stream",
          "text": [
            "test accuracy: 96.4300%\n"
          ],
          "name": "stdout"
        }
      ]
    }
  ]
}