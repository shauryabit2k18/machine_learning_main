{
 "cells": [
  {
   "cell_type": "code",
   "execution_count": 2,
   "metadata": {},
   "outputs": [],
   "source": [
    "import time\n",
    "import tensorflow as tf\n",
    "import numpy as np\n",
    "from collections import namedtuple"
   ]
  },
  {
   "cell_type": "code",
   "execution_count": 3,
   "metadata": {},
   "outputs": [],
   "source": [
    "with open('anna.txt' , 'r') as f:\n",
    "    text = f.read()\n",
    "vocab = set(text)\n",
    "vocab_to_int = {c : i for i , c in enumerate(vocab)}\n",
    "int_to_vocab = dict(enumerate(vocab))\n",
    "encoded = np.array([vocab_to_int[c] for c in text], dtype = np.int32)"
   ]
  },
  {
   "cell_type": "code",
   "execution_count": 4,
   "metadata": {},
   "outputs": [
    {
     "data": {
      "text/plain": [
       "\"Chapter 1\\n\\n\\nHappy families are all alike; every unhappy family is unhappy in its own\\nway.\\n\\nEverything was in confusion in the Oblonskys' house. The wife had\\ndiscovered that the husband was carrying on\""
      ]
     },
     "execution_count": 4,
     "metadata": {},
     "output_type": "execute_result"
    }
   ],
   "source": [
    "text[:200]"
   ]
  },
  {
   "cell_type": "code",
   "execution_count": 5,
   "metadata": {},
   "outputs": [
    {
     "data": {
      "text/plain": [
       "array([51, 70, 22, 23, 12, 78, 50, 18, 41, 21, 21, 21, 36, 22, 23, 23, 64,\n",
       "       18, 75, 22, 10,  2, 82,  2, 78, 38, 18, 22, 50, 78, 18, 22, 82, 82,\n",
       "       18, 22, 82,  2, 55, 78, 54, 18, 78, 49, 78, 50, 64, 18, 46, 40, 70,\n",
       "       22, 23, 23, 64, 18, 75, 22, 10,  2, 82, 64, 18,  2, 38, 18, 46, 40,\n",
       "       70, 22, 23, 23, 64, 18,  2, 40, 18,  2, 12, 38, 18,  7, 33, 40, 21,\n",
       "       33, 22, 64, 27, 21, 21, 66, 49, 78, 50, 64, 12, 70,  2, 40, 65, 18,\n",
       "       33, 22, 38, 18,  2, 40, 18, 39,  7, 40, 75, 46, 38,  2,  7, 40, 18,\n",
       "        2, 40, 18, 12, 70, 78, 18, 45, 19, 82,  7, 40, 38, 55, 64, 38, 20,\n",
       "       18, 70,  7, 46, 38, 78, 27, 18,  5, 70, 78, 18, 33,  2, 75, 78, 18,\n",
       "       70, 22, 52, 21, 52,  2, 38, 39,  7, 49, 78, 50, 78, 52, 18, 12, 70,\n",
       "       22, 12, 18, 12, 70, 78, 18, 70, 46, 38, 19, 22, 40, 52, 18, 33, 22,\n",
       "       38, 18, 39, 22, 50, 50, 64,  2, 40, 65, 18,  7, 40])"
      ]
     },
     "execution_count": 5,
     "metadata": {},
     "output_type": "execute_result"
    }
   ],
   "source": [
    "encoded[:200]"
   ]
  },
  {
   "cell_type": "code",
   "execution_count": 6,
   "metadata": {},
   "outputs": [
    {
     "data": {
      "text/plain": [
       "83"
      ]
     },
     "execution_count": 6,
     "metadata": {},
     "output_type": "execute_result"
    }
   ],
   "source": [
    "len(vocab)"
   ]
  },
  {
   "cell_type": "code",
   "execution_count": 7,
   "metadata": {},
   "outputs": [],
   "source": [
    "def get_batches(arr , batch_size , n_steps):\n",
    "    \n",
    "    chars_per_batch = batch_size * n_steps\n",
    "    n_batches = len(arr)//chars_per_batch\n",
    "    \n",
    "    # keeping only enough characters to make full batches\n",
    "    arr = arr[:n_batches * chars_per_batch]\n",
    "    # reshape into batch size rows\n",
    "    arr = arr.reshape((batch_size , -1))\n",
    "    \n",
    "    for n in range(0 , arr.shape[1] , n_steps):\n",
    "        x = arr[:, n : n + n_steps]\n",
    "        y_temp = arr[: , n+1 : n + n_steps + 1]\n",
    "        y = np.zeros(x.shape , dtype = x.dtype)\n",
    "        y[: , :y_temp.shape[1]] = y_temp\n",
    "        \n",
    "        yield x , y"
   ]
  },
  {
   "cell_type": "code",
   "execution_count": 8,
   "metadata": {},
   "outputs": [],
   "source": [
    "batches = get_batches(encoded , 10 , 50)\n",
    "x , y = next(batches)"
   ]
  },
  {
   "cell_type": "code",
   "execution_count": 9,
   "metadata": {},
   "outputs": [
    {
     "name": "stdout",
     "output_type": "stream",
     "text": [
      "x\n",
      " [[51 70 22 23 12 78 50 18 41 21]\n",
      " [18 22 10 18 40  7 12 18 65  7]\n",
      " [49  2 40 27 21 21  1  6 78 38]\n",
      " [40 18 52 46 50  2 40 65 18 70]\n",
      " [18  2 12 18  2 38 37 18 38  2]\n",
      " [18 30 12 18 33 22 38 21  7 40]\n",
      " [70 78 40 18 39  7 10 78 18 75]\n",
      " [54 18 19 46 12 18 40  7 33 18]\n",
      " [12 18  2 38 40 20 12 27 18  5]\n",
      " [18 38 22  2 52 18 12  7 18 70]]\n",
      "y\n",
      " [[70 22 23 12 78 50 18 41 21 21]\n",
      " [22 10 18 40  7 12 18 65  7  2]\n",
      " [ 2 40 27 21 21  1  6 78 38 37]\n",
      " [18 52 46 50  2 40 65 18 70  2]\n",
      " [ 2 12 18  2 38 37 18 38  2 50]\n",
      " [30 12 18 33 22 38 21  7 40 82]\n",
      " [78 40 18 39  7 10 78 18 75  7]\n",
      " [18 19 46 12 18 40  7 33 18 38]\n",
      " [18  2 38 40 20 12 27 18  5 70]\n",
      " [38 22  2 52 18 12  7 18 70 78]]\n"
     ]
    }
   ],
   "source": [
    "print('x\\n' , x[:10 , :10])\n",
    "print('y\\n' , y[:10 , :10])"
   ]
  },
  {
   "cell_type": "markdown",
   "metadata": {},
   "source": [
    "# Inputs"
   ]
  },
  {
   "cell_type": "code",
   "execution_count": 10,
   "metadata": {},
   "outputs": [],
   "source": [
    "def build_inputs(batch_size , num_steps):\n",
    "    inputs = tf.placeholder(tf.int32 , [batch_size , num_steps] , name = 'inputs')\n",
    "    targets = tf.placeholder(tf.int32 , [batch_size , num_steps] , name = 'targets')\n",
    "    \n",
    "    keep_prob = tf.placeholder(tf.float32 , name = 'keep_prob')\n",
    "    \n",
    "    return inputs , targets , keep_prob"
   ]
  },
  {
   "cell_type": "markdown",
   "metadata": {},
   "source": [
    "# LSTM Cells"
   ]
  },
  {
   "cell_type": "code",
   "execution_count": 11,
   "metadata": {},
   "outputs": [],
   "source": [
    "def build_lstm(lstm_size , num_layers , batch_size , keep_prob):\n",
    "    def build_cell(lstm_size , keep_prob):\n",
    "        lstm = tf.contrib.rnn.BasicLSTMCell(lstm_size)\n",
    "        drop = tf.contrib.rnn.DropoutWrapper(lstm , output_keep_prob = keep_prob)\n",
    "        return drop\n",
    "    \n",
    "    cell = tf.contrib.rnn.MultiRNNCell([build_cell(lstm_size , keep_prob) for _ in range(num_layers)])\n",
    "    initial_state = cell.zero_state(batch_size , tf.float32)\n",
    "    \n",
    "    return cell , initial_state"
   ]
  },
  {
   "cell_type": "markdown",
   "metadata": {},
   "source": [
    "# Output"
   ]
  },
  {
   "cell_type": "code",
   "execution_count": 12,
   "metadata": {},
   "outputs": [],
   "source": [
    "def build_output(lstm_output, in_size, out_size):\n",
    "    # Reshape output so it's a bunch of rows, one row for each step for each sequence.\n",
    "    # That is, the shape should be batch_size*num_steps rows by lstm_size columns\n",
    "    seq_output = tf.concat(lstm_output, axis=1)\n",
    "    x = tf.reshape(seq_output, [-1, in_size])\n",
    "    \n",
    "    # Connect the RNN outputs to a softmax layer\n",
    "    with tf.variable_scope('softmax'):\n",
    "        softmax_w = tf.Variable(tf.truncated_normal((in_size, out_size), stddev=0.1))\n",
    "        softmax_b = tf.Variable(tf.zeros(out_size))\n",
    "    \n",
    "    # Since output is a bunch of rows of RNN cell outputs, logits will be a bunch\n",
    "    # of rows of logit outputs, one for each step and sequence\n",
    "    logits = tf.matmul(x, softmax_w) + softmax_b\n",
    "    \n",
    "    # Use softmax to get the probabilities for predicted characters\n",
    "    out = tf.nn.softmax(logits, name='predictions')\n",
    "    \n",
    "    return out, logits"
   ]
  },
  {
   "cell_type": "markdown",
   "metadata": {},
   "source": [
    "# Training Loss"
   ]
  },
  {
   "cell_type": "code",
   "execution_count": 13,
   "metadata": {},
   "outputs": [],
   "source": [
    "def build_loss(logits, targets, lstm_size, num_classes):\n",
    "    # One-hot encode targets and reshape to match logits, one row per batch_size per step\n",
    "    y_one_hot = tf.one_hot(targets, num_classes)\n",
    "    y_reshaped = tf.reshape(y_one_hot, logits.get_shape())\n",
    "    \n",
    "    # Softmax cross entropy loss\n",
    "    loss = tf.nn.softmax_cross_entropy_with_logits(logits=logits, labels=y_reshaped)\n",
    "    loss = tf.reduce_mean(loss)\n",
    "    return loss"
   ]
  },
  {
   "cell_type": "markdown",
   "metadata": {},
   "source": [
    "# Optimizer"
   ]
  },
  {
   "cell_type": "code",
   "execution_count": 14,
   "metadata": {},
   "outputs": [],
   "source": [
    "def build_optimizer(loss, learning_rate, grad_clip):\n",
    "    # Optimizer for training, using gradient clipping to control exploding gradients\n",
    "    tvars = tf.trainable_variables()\n",
    "    grads, _ = tf.clip_by_global_norm(tf.gradients(loss, tvars), grad_clip)\n",
    "    train_op = tf.train.AdamOptimizer(learning_rate)\n",
    "    optimizer = train_op.apply_gradients(zip(grads, tvars))\n",
    "    \n",
    "    return optimizer"
   ]
  },
  {
   "cell_type": "markdown",
   "metadata": {},
   "source": [
    "# Build the network"
   ]
  },
  {
   "cell_type": "code",
   "execution_count": 15,
   "metadata": {},
   "outputs": [],
   "source": [
    "class CharRNN:\n",
    "    \n",
    "    def __init__(self, num_classes, batch_size=64, num_steps=50, \n",
    "                       lstm_size=128, num_layers=2, learning_rate=0.001, \n",
    "                       grad_clip=5, sampling=False):\n",
    "    \n",
    "        # When we're using this network for sampling later, we'll be passing in\n",
    "        # one character at a time, so providing an option for that\n",
    "        if sampling == True:\n",
    "            batch_size, num_steps = 1, 1\n",
    "        else:\n",
    "            batch_size, num_steps = batch_size, num_steps\n",
    "\n",
    "        tf.reset_default_graph()\n",
    "        \n",
    "        # Build the input placeholder tensors\n",
    "        self.inputs, self.targets, self.keep_prob = build_inputs(batch_size, num_steps)\n",
    "\n",
    "        # Build the LSTM cell\n",
    "        cell, self.initial_state = build_lstm(lstm_size, num_layers, batch_size, self.keep_prob)\n",
    "\n",
    "        ### Run the data through the RNN layers\n",
    "        # First, one-hot encode the input tokens\n",
    "        x_one_hot = tf.one_hot(self.inputs, num_classes)\n",
    "        \n",
    "        # Run each sequence step through the RNN and collect the outputs\n",
    "        outputs, state = tf.nn.dynamic_rnn(cell, x_one_hot, initial_state=self.initial_state)\n",
    "        self.final_state = state\n",
    "        \n",
    "        # Get softmax predictions and logits\n",
    "        self.prediction, self.logits = build_output(outputs, lstm_size, num_classes)\n",
    "        \n",
    "        # Loss and optimizer (with gradient clipping)\n",
    "        self.loss = build_loss(self.logits, self.targets, lstm_size, num_classes)\n",
    "        self.optimizer = build_optimizer(self.loss, learning_rate, grad_clip)"
   ]
  },
  {
   "cell_type": "markdown",
   "metadata": {},
   "source": [
    "# Hyperparameters"
   ]
  },
  {
   "cell_type": "code",
   "execution_count": 16,
   "metadata": {},
   "outputs": [],
   "source": [
    "batch_size = 100           # Sequences per batch\n",
    "num_steps = 100            # Num of sequence steps per batch\n",
    "lstm_size = 512            # Num of hidden layers in LSTM\n",
    "num_layers = 2             # Num of lstm layers\n",
    "learning_rate = 0.001\n",
    "keep_prob = 0.5"
   ]
  },
  {
   "cell_type": "code",
   "execution_count": 17,
   "metadata": {},
   "outputs": [
    {
     "name": "stdout",
     "output_type": "stream",
     "text": [
      "\n",
      "WARNING: The TensorFlow contrib module will not be included in TensorFlow 2.0.\n",
      "For more information, please see:\n",
      "  * https://github.com/tensorflow/community/blob/master/rfcs/20180907-contrib-sunset.md\n",
      "  * https://github.com/tensorflow/addons\n",
      "If you depend on functionality not listed there, please file an issue.\n",
      "\n",
      "WARNING:tensorflow:From <ipython-input-11-f663c91091e4>:3: BasicLSTMCell.__init__ (from tensorflow.python.ops.rnn_cell_impl) is deprecated and will be removed in a future version.\n",
      "Instructions for updating:\n",
      "This class is equivalent as tf.keras.layers.LSTMCell, and will be replaced by that in Tensorflow 2.0.\n",
      "WARNING:tensorflow:From <ipython-input-11-f663c91091e4>:7: MultiRNNCell.__init__ (from tensorflow.python.ops.rnn_cell_impl) is deprecated and will be removed in a future version.\n",
      "Instructions for updating:\n",
      "This class is equivalent as tf.keras.layers.StackedRNNCells, and will be replaced by that in Tensorflow 2.0.\n",
      "WARNING:tensorflow:From <ipython-input-15-85de622c798a>:27: dynamic_rnn (from tensorflow.python.ops.rnn) is deprecated and will be removed in a future version.\n",
      "Instructions for updating:\n",
      "Please use `keras.layers.RNN(cell)`, which is equivalent to this API\n",
      "WARNING:tensorflow:From C:\\Users\\Shaurya Sinha\\Anaconda3\\lib\\site-packages\\tensorflow\\python\\ops\\tensor_array_ops.py:162: colocate_with (from tensorflow.python.framework.ops) is deprecated and will be removed in a future version.\n",
      "Instructions for updating:\n",
      "Colocations handled automatically by placer.\n",
      "WARNING:tensorflow:From C:\\Users\\Shaurya Sinha\\Anaconda3\\lib\\site-packages\\tensorflow\\python\\ops\\rnn_cell_impl.py:1259: calling dropout (from tensorflow.python.ops.nn_ops) with keep_prob is deprecated and will be removed in a future version.\n",
      "Instructions for updating:\n",
      "Please use `rate` instead of `keep_prob`. Rate should be set to `rate = 1 - keep_prob`.\n",
      "WARNING:tensorflow:From <ipython-input-13-35adffc4b050>:7: softmax_cross_entropy_with_logits (from tensorflow.python.ops.nn_ops) is deprecated and will be removed in a future version.\n",
      "Instructions for updating:\n",
      "\n",
      "Future major versions of TensorFlow will allow gradients to flow\n",
      "into the labels input on backprop by default.\n",
      "\n",
      "See `tf.nn.softmax_cross_entropy_with_logits_v2`.\n",
      "\n",
      "Epoch: 1/20...  Training Step: 50...  Training loss: 3.1571...  2.8351 sec/batch\n",
      "Epoch: 1/20...  Training Step: 100...  Training loss: 3.0873...  2.4844 sec/batch\n",
      "Epoch: 1/20...  Training Step: 150...  Training loss: 2.8304...  2.0585 sec/batch\n",
      "Epoch: 2/20...  Training Step: 200...  Training loss: 2.4755...  3.1654 sec/batch\n",
      "Epoch: 2/20...  Training Step: 250...  Training loss: 2.3718...  3.7871 sec/batch\n",
      "Epoch: 2/20...  Training Step: 300...  Training loss: 2.2571...  2.5133 sec/batch\n",
      "Epoch: 2/20...  Training Step: 350...  Training loss: 2.2092...  2.2270 sec/batch\n",
      "Epoch: 3/20...  Training Step: 400...  Training loss: 2.0732...  2.1951 sec/batch\n",
      "Epoch: 3/20...  Training Step: 450...  Training loss: 2.0135...  2.0665 sec/batch\n",
      "Epoch: 3/20...  Training Step: 500...  Training loss: 1.9465...  2.1333 sec/batch\n",
      "Epoch: 3/20...  Training Step: 550...  Training loss: 1.9237...  2.1682 sec/batch\n",
      "Epoch: 4/20...  Training Step: 600...  Training loss: 1.8176...  2.1163 sec/batch\n",
      "Epoch: 4/20...  Training Step: 650...  Training loss: 1.8255...  2.1512 sec/batch\n",
      "Epoch: 4/20...  Training Step: 700...  Training loss: 1.7685...  2.3088 sec/batch\n",
      "Epoch: 4/20...  Training Step: 750...  Training loss: 1.7354...  2.2949 sec/batch\n",
      "Epoch: 5/20...  Training Step: 800...  Training loss: 1.7027...  2.3986 sec/batch\n",
      "Epoch: 5/20...  Training Step: 850...  Training loss: 1.6672...  2.5302 sec/batch\n",
      "Epoch: 5/20...  Training Step: 900...  Training loss: 1.6412...  2.4794 sec/batch\n",
      "Epoch: 5/20...  Training Step: 950...  Training loss: 1.6197...  2.4159 sec/batch\n",
      "Epoch: 6/20...  Training Step: 1000...  Training loss: 1.5984...  2.3268 sec/batch\n",
      "Epoch: 6/20...  Training Step: 1050...  Training loss: 1.6204...  2.1792 sec/batch\n",
      "Epoch: 6/20...  Training Step: 1100...  Training loss: 1.5586...  2.1084 sec/batch\n",
      "Epoch: 6/20...  Training Step: 1150...  Training loss: 1.5555...  2.1193 sec/batch\n",
      "Epoch: 7/20...  Training Step: 1200...  Training loss: 1.5032...  2.0864 sec/batch\n",
      "Epoch: 7/20...  Training Step: 1250...  Training loss: 1.5624...  2.0455 sec/batch\n",
      "Epoch: 7/20...  Training Step: 1300...  Training loss: 1.4838...  2.1602 sec/batch\n",
      "Epoch: 7/20...  Training Step: 1350...  Training loss: 1.4556...  2.0555 sec/batch\n",
      "Epoch: 8/20...  Training Step: 1400...  Training loss: 1.4704...  2.0685 sec/batch\n",
      "Epoch: 8/20...  Training Step: 1450...  Training loss: 1.4440...  2.0695 sec/batch\n",
      "Epoch: 8/20...  Training Step: 1500...  Training loss: 1.3907...  2.1752 sec/batch\n",
      "Epoch: 8/20...  Training Step: 1550...  Training loss: 1.4033...  2.2051 sec/batch\n",
      "Epoch: 9/20...  Training Step: 1600...  Training loss: 1.3691...  2.1972 sec/batch\n",
      "Epoch: 9/20...  Training Step: 1650...  Training loss: 1.3859...  2.2270 sec/batch\n",
      "Epoch: 9/20...  Training Step: 1700...  Training loss: 1.3203...  2.2939 sec/batch\n",
      "Epoch: 9/20...  Training Step: 1750...  Training loss: 1.3485...  2.3660 sec/batch\n",
      "Epoch: 10/20...  Training Step: 1800...  Training loss: 1.3834...  2.4096 sec/batch\n",
      "Epoch: 10/20...  Training Step: 1850...  Training loss: 1.3333...  2.4265 sec/batch\n",
      "Epoch: 10/20...  Training Step: 1900...  Training loss: 1.3478...  2.3617 sec/batch\n",
      "Epoch: 10/20...  Training Step: 1950...  Training loss: 1.4001...  2.3048 sec/batch\n",
      "Epoch: 11/20...  Training Step: 2000...  Training loss: 1.3592...  2.2360 sec/batch\n",
      "Epoch: 11/20...  Training Step: 2050...  Training loss: 1.3028...  2.0515 sec/batch\n",
      "Epoch: 11/20...  Training Step: 2100...  Training loss: 1.3022...  2.0804 sec/batch\n",
      "Epoch: 11/20...  Training Step: 2150...  Training loss: 1.3086...  2.2560 sec/batch\n",
      "Epoch: 12/20...  Training Step: 2200...  Training loss: 1.3059...  2.0824 sec/batch\n",
      "Epoch: 12/20...  Training Step: 2250...  Training loss: 1.3076...  2.0455 sec/batch\n",
      "Epoch: 12/20...  Training Step: 2300...  Training loss: 1.2372...  2.0495 sec/batch\n",
      "Epoch: 12/20...  Training Step: 2350...  Training loss: 1.2486...  2.0635 sec/batch\n",
      "Epoch: 13/20...  Training Step: 2400...  Training loss: 1.2858...  2.0645 sec/batch\n",
      "Epoch: 13/20...  Training Step: 2450...  Training loss: 1.2493...  2.1433 sec/batch\n",
      "Epoch: 13/20...  Training Step: 2500...  Training loss: 1.2539...  2.1662 sec/batch\n",
      "Epoch: 13/20...  Training Step: 2550...  Training loss: 1.2562...  2.1622 sec/batch\n",
      "Epoch: 14/20...  Training Step: 2600...  Training loss: 1.2195...  2.3328 sec/batch\n",
      "Epoch: 14/20...  Training Step: 2650...  Training loss: 1.2686...  2.5941 sec/batch\n",
      "Epoch: 14/20...  Training Step: 2700...  Training loss: 1.2087...  2.5213 sec/batch\n",
      "Epoch: 14/20...  Training Step: 2750...  Training loss: 1.2091...  2.3358 sec/batch\n",
      "Epoch: 15/20...  Training Step: 2800...  Training loss: 1.2460...  2.1981 sec/batch\n",
      "Epoch: 15/20...  Training Step: 2850...  Training loss: 1.2230...  2.0525 sec/batch\n",
      "Epoch: 15/20...  Training Step: 2900...  Training loss: 1.2203...  2.0595 sec/batch\n",
      "Epoch: 15/20...  Training Step: 2950...  Training loss: 1.2562...  2.1333 sec/batch\n",
      "Epoch: 16/20...  Training Step: 3000...  Training loss: 1.2320...  2.0649 sec/batch\n",
      "Epoch: 16/20...  Training Step: 3050...  Training loss: 1.2151...  2.2769 sec/batch\n",
      "Epoch: 16/20...  Training Step: 3100...  Training loss: 1.1706...  2.5372 sec/batch\n",
      "Epoch: 16/20...  Training Step: 3150...  Training loss: 1.1739...  2.1891 sec/batch\n",
      "Epoch: 17/20...  Training Step: 3200...  Training loss: 1.1672...  2.1333 sec/batch\n",
      "Epoch: 17/20...  Training Step: 3250...  Training loss: 1.1980...  2.0725 sec/batch\n",
      "Epoch: 17/20...  Training Step: 3300...  Training loss: 1.1765...  2.1562 sec/batch\n",
      "Epoch: 17/20...  Training Step: 3350...  Training loss: 1.2056...  2.3776 sec/batch\n",
      "Epoch: 18/20...  Training Step: 3400...  Training loss: 1.2033...  2.0756 sec/batch\n",
      "Epoch: 18/20...  Training Step: 3450...  Training loss: 1.1914...  2.0116 sec/batch\n",
      "Epoch: 18/20...  Training Step: 3500...  Training loss: 1.1801...  2.1054 sec/batch\n",
      "Epoch: 18/20...  Training Step: 3550...  Training loss: 1.1715...  2.1632 sec/batch\n",
      "Epoch: 19/20...  Training Step: 3600...  Training loss: 1.1789...  2.4519 sec/batch\n"
     ]
    },
    {
     "name": "stdout",
     "output_type": "stream",
     "text": [
      "Epoch: 19/20...  Training Step: 3650...  Training loss: 1.1769...  2.3198 sec/batch\n",
      "Epoch: 19/20...  Training Step: 3700...  Training loss: 1.1715...  2.4814 sec/batch\n",
      "Epoch: 19/20...  Training Step: 3750...  Training loss: 1.1535...  2.1562 sec/batch\n",
      "Epoch: 20/20...  Training Step: 3800...  Training loss: 1.1395...  2.0535 sec/batch\n",
      "Epoch: 20/20...  Training Step: 3850...  Training loss: 1.1542...  2.1024 sec/batch\n",
      "Epoch: 20/20...  Training Step: 3900...  Training loss: 1.1845...  2.1742 sec/batch\n",
      "Epoch: 20/20...  Training Step: 3950...  Training loss: 1.1482...  2.5183 sec/batch\n"
     ]
    }
   ],
   "source": [
    "epochs = 20\n",
    "# Print losses every N interations\n",
    "print_every_n = 50\n",
    "\n",
    "# Save every N iterations\n",
    "save_every_n = 200\n",
    "\n",
    "model = CharRNN(len(vocab), batch_size=batch_size, num_steps=num_steps,\n",
    "                lstm_size=lstm_size, num_layers=num_layers, \n",
    "                learning_rate=learning_rate)\n",
    "\n",
    "saver = tf.train.Saver(max_to_keep=100)\n",
    "with tf.Session() as sess:\n",
    "    sess.run(tf.global_variables_initializer())\n",
    "    \n",
    "    # Use the line below to load a checkpoint and resume training\n",
    "    #saver.restore(sess, 'checkpoints/______.ckpt')\n",
    "    counter = 0\n",
    "    for e in range(epochs):\n",
    "        # Train network\n",
    "        new_state = sess.run(model.initial_state)\n",
    "        loss = 0\n",
    "        for x, y in get_batches(encoded, batch_size, num_steps):\n",
    "            counter += 1\n",
    "            start = time.time()\n",
    "            feed = {model.inputs: x,\n",
    "                    model.targets: y,\n",
    "                    model.keep_prob: keep_prob,\n",
    "                    model.initial_state: new_state}\n",
    "            batch_loss, new_state, _ = sess.run([model.loss, \n",
    "                                                 model.final_state, \n",
    "                                                 model.optimizer], \n",
    "                                                 feed_dict=feed)\n",
    "            if (counter % print_every_n == 0):\n",
    "                end = time.time()\n",
    "                print('Epoch: {}/{}... '.format(e+1, epochs),\n",
    "                      'Training Step: {}... '.format(counter),\n",
    "                      'Training loss: {:.4f}... '.format(batch_loss),\n",
    "                      '{:.4f} sec/batch'.format((end-start)))\n",
    "        \n",
    "            if (counter % save_every_n == 0):\n",
    "                saver.save(sess, \"checkpoints/i{}_l{}.ckpt\".format(counter, lstm_size))\n",
    "    \n",
    "    saver.save(sess, \"checkpoints/i{}_l{}.ckpt\".format(counter, lstm_size))"
   ]
  },
  {
   "cell_type": "markdown",
   "metadata": {},
   "source": [
    "# Saved checkpoints"
   ]
  },
  {
   "cell_type": "code",
   "execution_count": 18,
   "metadata": {},
   "outputs": [
    {
     "data": {
      "text/plain": [
       "model_checkpoint_path: \"checkpoints\\\\i3960_l512.ckpt\"\n",
       "all_model_checkpoint_paths: \"checkpoints\\\\i200_l512.ckpt\"\n",
       "all_model_checkpoint_paths: \"checkpoints\\\\i400_l512.ckpt\"\n",
       "all_model_checkpoint_paths: \"checkpoints\\\\i600_l512.ckpt\"\n",
       "all_model_checkpoint_paths: \"checkpoints\\\\i800_l512.ckpt\"\n",
       "all_model_checkpoint_paths: \"checkpoints\\\\i1000_l512.ckpt\"\n",
       "all_model_checkpoint_paths: \"checkpoints\\\\i1200_l512.ckpt\"\n",
       "all_model_checkpoint_paths: \"checkpoints\\\\i1400_l512.ckpt\"\n",
       "all_model_checkpoint_paths: \"checkpoints\\\\i1600_l512.ckpt\"\n",
       "all_model_checkpoint_paths: \"checkpoints\\\\i1800_l512.ckpt\"\n",
       "all_model_checkpoint_paths: \"checkpoints\\\\i2000_l512.ckpt\"\n",
       "all_model_checkpoint_paths: \"checkpoints\\\\i2200_l512.ckpt\"\n",
       "all_model_checkpoint_paths: \"checkpoints\\\\i2400_l512.ckpt\"\n",
       "all_model_checkpoint_paths: \"checkpoints\\\\i2600_l512.ckpt\"\n",
       "all_model_checkpoint_paths: \"checkpoints\\\\i2800_l512.ckpt\"\n",
       "all_model_checkpoint_paths: \"checkpoints\\\\i3000_l512.ckpt\"\n",
       "all_model_checkpoint_paths: \"checkpoints\\\\i3200_l512.ckpt\"\n",
       "all_model_checkpoint_paths: \"checkpoints\\\\i3400_l512.ckpt\"\n",
       "all_model_checkpoint_paths: \"checkpoints\\\\i3600_l512.ckpt\"\n",
       "all_model_checkpoint_paths: \"checkpoints\\\\i3800_l512.ckpt\"\n",
       "all_model_checkpoint_paths: \"checkpoints\\\\i3960_l512.ckpt\""
      ]
     },
     "execution_count": 18,
     "metadata": {},
     "output_type": "execute_result"
    }
   ],
   "source": [
    "tf.train.get_checkpoint_state('checkpoints')"
   ]
  },
  {
   "cell_type": "markdown",
   "metadata": {},
   "source": [
    "# Sampling"
   ]
  },
  {
   "cell_type": "code",
   "execution_count": 24,
   "metadata": {},
   "outputs": [],
   "source": [
    "def pick_top_n(preds , vocab_size , top_n = 5):\n",
    "    p = np.squeeze(preds)\n",
    "    p[np.argsort(p)[:-top_n]] = 0\n",
    "    p = p / np.sum(p)\n",
    "    c = np.random.choice(vocab_size , 1 , p = p)[0]\n",
    "    return c"
   ]
  },
  {
   "cell_type": "code",
   "execution_count": 25,
   "metadata": {},
   "outputs": [],
   "source": [
    "def sample(checkpoint, n_samples, lstm_size, vocab_size, prime=\"The \"):\n",
    "    samples = [c for c in prime]\n",
    "    model = CharRNN(len(vocab), lstm_size=lstm_size, sampling=True)\n",
    "    saver = tf.train.Saver()\n",
    "    with tf.Session() as sess:\n",
    "        saver.restore(sess, checkpoint)\n",
    "        new_state = sess.run(model.initial_state)\n",
    "        for c in prime:\n",
    "            x = np.zeros((1, 1))\n",
    "            x[0,0] = vocab_to_int[c]\n",
    "            feed = {model.inputs: x,\n",
    "                    model.keep_prob: 1.,\n",
    "                    model.initial_state: new_state}\n",
    "            preds, new_state = sess.run([model.prediction, model.final_state], \n",
    "                                         feed_dict=feed)\n",
    "\n",
    "        c = pick_top_n(preds, len(vocab))\n",
    "        samples.append(int_to_vocab[c])\n",
    "\n",
    "        for i in range(n_samples):\n",
    "            x[0,0] = c\n",
    "            feed = {model.inputs: x,\n",
    "                    model.keep_prob: 1.,\n",
    "                    model.initial_state: new_state}\n",
    "            preds, new_state = sess.run([model.prediction, model.final_state], \n",
    "                                         feed_dict=feed)\n",
    "\n",
    "            c = pick_top_n(preds, len(vocab))\n",
    "            samples.append(int_to_vocab[c])\n",
    "        \n",
    "    return ''.join(samples)"
   ]
  },
  {
   "cell_type": "code",
   "execution_count": 26,
   "metadata": {},
   "outputs": [
    {
     "data": {
      "text/plain": [
       "'checkpoints\\\\i3960_l512.ckpt'"
      ]
     },
     "execution_count": 26,
     "metadata": {},
     "output_type": "execute_result"
    }
   ],
   "source": [
    "tf.train.latest_checkpoint('checkpoints')"
   ]
  },
  {
   "cell_type": "code",
   "execution_count": 27,
   "metadata": {},
   "outputs": [
    {
     "name": "stdout",
     "output_type": "stream",
     "text": [
      "WARNING:tensorflow:From C:\\Users\\Shaurya Sinha\\Anaconda3\\lib\\site-packages\\tensorflow\\python\\training\\saver.py:1266: checkpoint_exists (from tensorflow.python.training.checkpoint_management) is deprecated and will be removed in a future version.\n",
      "Instructions for updating:\n",
      "Use standard file APIs to check for files with this prefix.\n",
      "INFO:tensorflow:Restoring parameters from checkpoints\\i3960_l512.ckpt\n",
      "Farcied her.... He's said to see her, but how she was not to\n",
      "speak of the stoop into the bind and show he dad not answered all that\n",
      "he was a persain than the sound of hearing, but was impossible, and\n",
      "had to confused him. But he had this prepent of money would be a\n",
      "plenty at last that he could not have cared as he could say. She\n",
      "was not attractively to think that she saw why why they had baded\n",
      "her.\n",
      "\n",
      "His face was simply as though he done was so letter, with too this was a\n",
      "partor of alternate, and all of the sense of the servent with the\n",
      "chief sense of all the fact.\n",
      "\n",
      "\"Ah! they're not a mentile and man, thanks to see you,\" said Stepan\n",
      "Arkadyevitch, at her sister's eyes; \"I can't go to him,\" she said,\n",
      "looking away her hand, his book had taken about. She shouked a side\n",
      "that he could not see them, which went up and say that the peasants'\n",
      "well overcreat himself, with the filled on the stabs, as she found that to\n",
      "the boy would not be suffering with his wife, and that his face was\n",
      "there with her face, and that the priest alone his horses were not\n",
      "starring for a man when he had transfected him. And he had not his\n",
      "face had thought of the most interested of the caustion. But at that, was\n",
      "not so much the sense, as she had succeeded of all that he had been\n",
      "to tell him. He had said that she was not to be able to tell her he\n",
      "had said, and what it was a stranger, when he saw that his father and\n",
      "thinks will said, because they were not seeing any study, which he's\n",
      "trues too hope that she shall be delighted; \"he wants to be all that\n",
      "shall say, that I haven't seen me. And this said. And how is it?\"\n",
      "\n",
      "\"No, I won't content to the best of the second means to do at\n",
      "that servants of seciety. Wo lay take the conversation. And I\n",
      "wouldn't biling to still be so much asked what I have come in the point.\n",
      "If I deceive her all abonity,\" said Sergey Ivanovitch. \"I don't see\n",
      "the book in the bedsome in the ballow. While he has been tranciaged. It\n",
      "must be driven, to discover the peasants would be too marriage\n"
     ]
    }
   ],
   "source": [
    "checkpoint = tf.train.latest_checkpoint('checkpoints')\n",
    "samp = sample(checkpoint, 2000, lstm_size, len(vocab), prime=\"Far\")\n",
    "print(samp)"
   ]
  }
 ],
 "metadata": {
  "kernelspec": {
   "display_name": "Python 3",
   "language": "python",
   "name": "python3"
  },
  "language_info": {
   "codemirror_mode": {
    "name": "ipython",
    "version": 3
   },
   "file_extension": ".py",
   "mimetype": "text/x-python",
   "name": "python",
   "nbconvert_exporter": "python",
   "pygments_lexer": "ipython3",
   "version": "3.7.1"
  }
 },
 "nbformat": 4,
 "nbformat_minor": 2
}
