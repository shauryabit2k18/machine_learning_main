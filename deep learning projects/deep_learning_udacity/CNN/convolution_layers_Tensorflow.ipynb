{
 "cells": [
  {
   "cell_type": "markdown",
   "metadata": {},
   "source": [
    "# Importing the libraries"
   ]
  },
  {
   "cell_type": "code",
   "execution_count": 1,
   "metadata": {},
   "outputs": [],
   "source": [
    "import tensorflow as tf\n",
    "import numpy as np"
   ]
  },
  {
   "cell_type": "markdown",
   "metadata": {},
   "source": [
    "# Initializing the variables/parameters , weights , bias"
   ]
  },
  {
   "cell_type": "code",
   "execution_count": 3,
   "metadata": {},
   "outputs": [
    {
     "name": "stdout",
     "output_type": "stream",
     "text": [
      "WARNING:tensorflow:From C:\\Users\\Shaurya Sinha\\Anaconda3\\lib\\site-packages\\tensorflow\\python\\framework\\op_def_library.py:263: colocate_with (from tensorflow.python.framework.ops) is deprecated and will be removed in a future version.\n",
      "Instructions for updating:\n",
      "Colocations handled automatically by placer.\n"
     ]
    }
   ],
   "source": [
    "#output depth\n",
    "k_output = 64\n",
    "\n",
    "#image dimentions\n",
    "image_width = 10\n",
    "image_height = 10\n",
    "color_channels = 3\n",
    "\n",
    "#convolution fliter dimentions\n",
    "filter_size_width = 5\n",
    "filter_size_height = 5\n",
    "\n",
    "#input image\n",
    "input = tf.placeholder(tf.float32 , shape = [None , image_height , image_width , color_channels])\n",
    "\n",
    "#weights and bias\n",
    "weights = tf.Variable(tf.truncated_normal([filter_size_height , filter_size_width , color_channels, k_output]))\n",
    "bias = tf.Variable(tf.zeros(k_output))"
   ]
  },
  {
   "cell_type": "markdown",
   "metadata": {},
   "source": [
    "# making the convolution layers in tensorflow"
   ]
  },
  {
   "cell_type": "code",
   "execution_count": 4,
   "metadata": {},
   "outputs": [],
   "source": [
    "#applying convolution\n",
    "conv_layer = tf.nn.conv2d(input , weights , strides = [1 , 2 , 2 , 1] , padding = 'SAME')\n",
    "\n",
    "#adding bias\n",
    "conv_layer = tf.nn.bias_add(conv_layer , bias)\n",
    "\n",
    "#applying activation function\n",
    "conv_layer = tf.nn.relu(conv_layer)"
   ]
  }
 ],
 "metadata": {
  "kernelspec": {
   "display_name": "Python 3",
   "language": "python",
   "name": "python3"
  },
  "language_info": {
   "codemirror_mode": {
    "name": "ipython",
    "version": 3
   },
   "file_extension": ".py",
   "mimetype": "text/x-python",
   "name": "python",
   "nbconvert_exporter": "python",
   "pygments_lexer": "ipython3",
   "version": "3.7.1"
  }
 },
 "nbformat": 4,
 "nbformat_minor": 2
}
